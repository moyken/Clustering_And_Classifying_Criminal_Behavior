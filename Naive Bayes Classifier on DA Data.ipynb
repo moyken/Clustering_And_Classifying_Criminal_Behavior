{
 "cells": [
  {
   "cell_type": "code",
   "execution_count": 1,
   "metadata": {
    "collapsed": true
   },
   "outputs": [],
   "source": [
    "import pandas as pd\n",
    "from matplotlib import pyplot as plt\n",
    "from scipy.cluster.hierarchy import dendrogram, linkage, fcluster\n",
    "import numpy as np\n",
    "import seaborn as sns\n",
    "from sklearn.decomposition import PCA\n",
    "from sklearn.cluster import KMeans\n",
    "import re\n",
    "%matplotlib inline"
   ]
  },
  {
   "cell_type": "markdown",
   "metadata": {},
   "source": [
    "# Load and Combine DA Data Files"
   ]
  },
  {
   "cell_type": "code",
   "execution_count": 2,
   "metadata": {
    "collapsed": true
   },
   "outputs": [],
   "source": [
    "# Load DA reports\n",
    "DA2015 = pd.read_csv('DA2015.csv')\n",
    "DA2016 = pd.read_csv('DA2016.csv')\n",
    "DA2017 = pd.read_csv('DA2017.csv')"
   ]
  },
  {
   "cell_type": "code",
   "execution_count": 3,
   "metadata": {},
   "outputs": [
    {
     "data": {
      "text/plain": [
       "(1185, 290)"
      ]
     },
     "execution_count": 3,
     "metadata": {},
     "output_type": "execute_result"
    }
   ],
   "source": [
    "DA_Full = pd.concat([DA2015,DA2016,DA2017], axis = 0).reset_index(drop = True)\n",
    "DA_Full.shape"
   ]
  },
  {
   "cell_type": "markdown",
   "metadata": {},
   "source": [
    "# Apply Corrections to Incident Numbers"
   ]
  },
  {
   "cell_type": "code",
   "execution_count": 4,
   "metadata": {
    "collapsed": true
   },
   "outputs": [],
   "source": [
    "# Correct Incident Numbers\n",
    "DA_Full.IncidentNumber = DA_Full.IncidentNumber.replace( ['2015-15790',\n",
    "'2015-171',\n",
    "'2015-18657',\n",
    "'2015-10854',\n",
    "'2015-17442',\n",
    "'2015-18625',\n",
    "'2015-1903',\n",
    "'2015-25424',\n",
    "'2015-382',\n",
    "'2015-23119',\n",
    "'2015-24081',\n",
    "'2015-20102',\n",
    "'2015-25134',\n",
    "'2015-25182',\n",
    "'2015-857',\n",
    "'2015-7982',\n",
    "'2016-13631',\n",
    "'2016-5611',\n",
    "'2016-2940',\n",
    "'2016-2840',\n",
    "'2016-3611',\n",
    "'2016-5548',\n",
    "'2016-4220',\n",
    "'2016-4579',\n",
    "'2016-6031',\n",
    "'2016-607',\n",
    "'2016-6887',\n",
    "'2016-7005',\n",
    "'2016-9116',\n",
    "'2016-92',\n",
    "'2016-9441',\n",
    "'2016-16113',\n",
    "'2016-1073',\n",
    "'2016-19740',\n",
    "'2016-197708',\n",
    "'2016-182477',\n",
    "'2016-1945'] ,['2015-15970',\n",
    "'2015-16171',\n",
    "'2015-16657',\n",
    "'2015-16854',\n",
    "'2015-17142',\n",
    "'2015-18265',\n",
    "'2015-19035',\n",
    "'2015-22454',\n",
    "'2015-23083',\n",
    "'2015-23719',\n",
    "'2015-24041',\n",
    "'2015-25702',\n",
    "'2015-25734',\n",
    "'2015-25782',\n",
    "'2015-851',\n",
    "'2015-9982',\n",
    "'2016-1363',\n",
    "'2016-1564',\n",
    "'2016-1940',\n",
    "'2016-2848',\n",
    "'2016-3414',\n",
    "'2016-3548',\n",
    "'2016-4270',\n",
    "'2016-4578',\n",
    "'2016-6037',\n",
    "'2016-6845',\n",
    "'2016-6882',\n",
    "'2016-7006',\n",
    "'2016-9111',\n",
    "'2016-9219',\n",
    "'2016-9991',\n",
    "'2016-10113',\n",
    "'2016-10735',\n",
    "'2016-10740',\n",
    "'2016-17770',\n",
    "'2016-18247',\n",
    "'2016-19957'])\n"
   ]
  },
  {
   "cell_type": "code",
   "execution_count": 5,
   "metadata": {
    "collapsed": true
   },
   "outputs": [],
   "source": [
    "# create combined DF\n",
    "DA_Full.to_csv('DA_Full.csv')"
   ]
  },
  {
   "cell_type": "code",
   "execution_count": 6,
   "metadata": {
    "scrolled": true
   },
   "outputs": [
    {
     "data": {
      "text/plain": [
       "array(['DIRVersion', 'CaseYear', 'CaseName', 'SuspectActionsImpaired',\n",
       "       'SuspectActionsDrugOrAlcolol', 'SuspectActionsPushing',\n",
       "       'SuspectActionsThrewItems', 'SuspectActionsBiting',\n",
       "       'SuspectActionsInjureChild', 'SuspectActionsSexAssault',\n",
       "       'SuspectActionsUnwantedContact', 'SuspectActionsDestroyedProp',\n",
       "       'InjureOtherPerson', 'SuspectActionsShooting',\n",
       "       'SuspectActionsVerbalAbuse', 'InjurePet', 'SuspectActionsSlapping',\n",
       "       'SuspectActionsViolatedConditions', 'SuspectActionsForcedEntry',\n",
       "       'InterferencePhone', 'SuspectActionsSlammingBody',\n",
       "       'SuspectActionsForciblRestraint', 'SuspectActionsIntimidation',\n",
       "       'SuspectActionsStabbing', 'SuspectActionsHairPulling',\n",
       "       'SuspectActionsKicking', 'SuspectActionsStrangulation',\n",
       "       'SuspectActionsHomicide', 'SuspectActionsPunching',\n",
       "       'SuspectActionsSuicide', 'SuspectActionsThreats',\n",
       "       'SuspectActionsInjureKillPerson', 'SuspectActionsInjureKillSelf',\n",
       "       'SuspectActionsInjureKillPet', 'SuspectActionsTakeChild',\n",
       "       'SuspectThreats', 'ThreatsWithWeaponUsed',\n",
       "       'SuspectThreatsWeaponBlunt', 'SuspectThreatsWeaponGun',\n",
       "       'SuspectThreatsWeaponMotorVehicle',\n",
       "       'SuspectThreatsWeaponSharpInstrament', 'SuspectThreatsWeaponOther',\n",
       "       'OffensesFelony', 'OffensesMisdemeanor', 'OffensesViolation',\n",
       "       'OffensesOther', 'ChargesFiled1', 'ChargesFiled2', 'ChargesFiled3',\n",
       "       'PhotoVictim', 'PhotoSuspect', 'PhotoScene', 'PhotoDamagedProp',\n",
       "       'PhotoOther', 'ORI', 'SprintNumber', 'IncidentNumber',\n",
       "       'IncidentDate', 'IncidentDateSort', 'IncidentTime',\n",
       "       'IncidentComment', 'OccurrenceAddress', 'OccurrenceApt',\n",
       "       'OccurrenceCityStZip', 'LatLongVerified', 'Latitude', 'Longitude',\n",
       "       'Precinct', 'AidedNumber', 'ComplaintNumber', 'PriorComplaint',\n",
       "       'LocalDVSP', 'ReportDate', 'ReportDateSort', 'ReportTime',\n",
       "       'SafeContact', 'VictimLName', 'VictimFName', 'VictimMiddleInitial',\n",
       "       'VictimAliases', 'VictimPhone', 'VictimDOB', 'VictimDOBSort',\n",
       "       'VictimAge', 'VictimAddress', 'VictimCity', 'VictimAptNumber',\n",
       "       'VictimLanguageInput', 'VictimHospital', 'VictimEthnicityInput',\n",
       "       'VicCondChkUpset', 'VicCondChkNervous', 'VicCondChkCrying',\n",
       "       'VicCondChkAngry', 'VicCondChkOther', 'VicConditionOther',\n",
       "       'VictimFearfullDescription', 'VictimAccessToGuns',\n",
       "       'VictimAccessToGunsDesc', 'SuspectLName', 'SuspectFName',\n",
       "       'SuspectMiddleInitial', 'SuspectAliases', 'SuspectPhone',\n",
       "       'SuspectDOB', 'SuspectDOBSort', 'SuspectAge', 'SuspectAddress',\n",
       "       'SuspectCity', 'SuspectAptNumber', 'SuspectLanguageInput',\n",
       "       'SuspectHospital', 'SuspectEthnicityInput',\n",
       "       'PartiesRelativeOtherRelative', 'PartiesRelationOtherInPut',\n",
       "       'AssociatedPerson1', 'AssociatedPhone1', 'AssociatedDOB1',\n",
       "       'AssociatedRelation1', 'AssociatedPerson2', 'AssociatedPhone2',\n",
       "       'AssociatedDOB2', 'AssociatedRelation2', 'AssociatedPerson3',\n",
       "       'AssociatedPhone3', 'AssociatedDOB3', 'AssociatedRelation3',\n",
       "       'SuspectActionsDestroyPropEstimate', 'SuspectActionsOtherInput',\n",
       "       'SuspectThreatsWeaponOtherInput', 'ArrestNumber', 'ArrestDate',\n",
       "       'ArrestDateSort', 'ReasonNoArrestOtherInput', 'OffensesOtherInput',\n",
       "       'OPCourtName', 'ExpriationDate', 'Offenses1', 'LawSection1',\n",
       "       'Offenses2', 'LawSection2', 'Offenses3', 'LawSection3',\n",
       "       'PhotosOther', 'OtherEvidenceDescription', 'EvidenceElectronic',\n",
       "       'EvidenceVideos', 'PermitNumber', 'PermitCounty', 'PermitName',\n",
       "       'ContactByOtherAgency', 'OfficerNameRank', 'OfficerID',\n",
       "       'OfficerSigDate', 'VictimNoticeReason', 'SuperVisorNameRank',\n",
       "       'SuperVisorID', 'SupervisorSigDate', 'SuspectActionsOther',\n",
       "       'SuspectActionsDestroyProp', 'SuspectSex', 'VictimDVHistory',\n",
       "       'VictimPriorDVReport', 'VictimFearful', 'SuspectAccessWeapons',\n",
       "       'SuspectAlcholHistory', 'SuspectSuicideHistory', 'SuspectPresent',\n",
       "       'PartiesLiveTogether', 'PartiesEverLiveTogether',\n",
       "       'HaveChildTogher', 'ArrestMade', 'Registry', 'OrderofProtection',\n",
       "       'OrderOfProtectionType', 'StayawayOrder', 'OrderViolated',\n",
       "       'PriorOrders', 'PhotosTaken', 'OtherEvidence', 'EvidencePresent',\n",
       "       'Utterances', 'GunsInHome', 'GunsSeized', 'GunsPermit',\n",
       "       'ResCauseChildAbuse', 'DIRtoVictim', 'VictimDIRReason',\n",
       "       'RightsNoticetoVictim', 'GunsPermitSeized', 'VictimEthnicity',\n",
       "       'SuspectLanguage', 'SuspectEthnicity', 'PartiesRelationship',\n",
       "       'ReasonNoArrest', 'ContactInitiatedBy', 'ContactInitiatedByDVS',\n",
       "       'ContactInitiatedByCPS', 'ContactInitiatedByOther', 'Agency',\n",
       "       'OPCourtType', 'VictimIsHispanic', 'SuspectIsHispanic',\n",
       "       'SuspectOnParole', 'VictimSex', 'VictimInjured', 'VictimLanguage',\n",
       "       'CallInitiated', 'VictimSentToHospital', 'SuspectInjured',\n",
       "       'SuspectSentToHospital', 'VictimDescribeInjury', 'VictimNotes',\n",
       "       'SuspectDescribeInjury', 'SuspectActionsDescribe',\n",
       "       'ResultsOfInvestigation', 'UploadedDIR', 'UploadedFO',\n",
       "       'StatementDateEnglish', 'StatementTimeEnglish',\n",
       "       'StatementDateSpanish', 'StatementTimeSpanish', 'Statement0',\n",
       "       'Statement1', 'Statement2', 'Statement3', 'Statement4',\n",
       "       'Statement5', 'Statement6', 'Statement7', 'Statement8',\n",
       "       'Statement9', 'Statement10', 'Statement11', 'Statement12',\n",
       "       'Statement13', 'Statement14', 'Statement15', 'Statement16',\n",
       "       'Statement17', 'Statement18', 'Strangulation', 'StrangulationLOC',\n",
       "       'StrangulationUD', 'StrangulationREP', 'StrangulationST',\n",
       "       'StrangulationBC', 'StrangulationDS', 'StrangulationVM',\n",
       "       'StrangulationVMDesc', 'VictimInPain', 'SuspectComments',\n",
       "       'Completed71030', 'WitnessName1', 'WitnessName2', 'WitnessName3',\n",
       "       'WitnessDOB1', 'WitnessDOB2', 'WitnessDOB3', 'WitnessAddress1',\n",
       "       'WitnessAddress2', 'WitnessAddress3', 'WitnessCSZ1', 'WitnessCSZ2',\n",
       "       'WitnessCSZ3', 'WitnessPhone1', 'WitnessPhone2', 'WitnessPhone3',\n",
       "       'VictimStatementSig', 'VictimStatementDate', 'WitnessStatementSig',\n",
       "       'WitnessStatementDate', 'InterpreterStatementSig',\n",
       "       'InterpreteStatementDate', 'InterpreterRequested',\n",
       "       'InterpreterUsed', 'VictimPage', 'VictimPageOf',\n",
       "       'RepositoryChecked', 'VictimFirstWords', 'VictimPainDesc',\n",
       "       'StatementCounty', 'PriorCapableKill', 'PriorKillYouOrChildren',\n",
       "       'PriorJealous', 'PriorStrangle', 'PriorBeatenPregnant',\n",
       "       'PriorViolenceIncreased', 'PriorBeliveAbuse',\n",
       "       'SuspectActionsViolatedCondition'], dtype=object)"
      ]
     },
     "execution_count": 6,
     "metadata": {},
     "output_type": "execute_result"
    }
   ],
   "source": [
    "DA_Full.columns.values"
   ]
  },
  {
   "cell_type": "markdown",
   "metadata": {},
   "source": [
    "# Cleaning Data"
   ]
  },
  {
   "cell_type": "code",
   "execution_count": 7,
   "metadata": {
    "collapsed": true
   },
   "outputs": [],
   "source": [
    "# Transforming necessary columns to binary\n",
    "DA_Full.PartiesLiveTogether = DA_Full.PartiesLiveTogether.replace(['No','Yes'], [0,1])\n",
    "DA_Full.PartiesEverLiveTogether = DA_Full.PartiesEverLiveTogether.replace(['No','Yes'], [0,1])\n",
    "DA_Full.HaveChildTogher = DA_Full.HaveChildTogher.replace(['No','Yes'], [0,1])\n",
    "\n",
    "# replacing NAs with zero\n",
    "DA_Full.PartiesLiveTogether = DA_Full.PartiesLiveTogether.fillna(0)\n",
    "DA_Full.PartiesEverLiveTogether = DA_Full.PartiesEverLiveTogether.fillna(0)\n",
    "DA_Full.HaveChildTogher = DA_Full.HaveChildTogher.fillna(0)\n",
    "\n",
    "# Replace NA with 'Other'\n",
    "DA_Full.PartiesRelationship = DA_Full.PartiesRelationship.fillna('Other')"
   ]
  },
  {
   "cell_type": "markdown",
   "metadata": {},
   "source": [
    "# Feature Engineering"
   ]
  },
  {
   "cell_type": "code",
   "execution_count": 8,
   "metadata": {
    "collapsed": true
   },
   "outputs": [],
   "source": [
    "# Create function to tag if case is \"Intimate' vs 'Not Intimate'\n",
    "def is_intimate(df):\n",
    "    if (df['PartiesRelationship'] == 'Intimate') or (df['PartiesRelationship'] == 'Married') or (df['PartiesRelationship'] == 'FormallyIntimate') or (df['PartiesRelationship'] == 'FormallyMarried'):\n",
    "        return str('Intimate')\n",
    "    elif (df['PartiesRelationship'] == 'Other'): # if it is nan or other then do second check\n",
    "        if df['HaveChildTogher'] == 1:\n",
    "            return str('Intimate')\n",
    "        else:\n",
    "            return str('Not Intimate')\n",
    "    else:\n",
    "        return str('Not Intimate')"
   ]
  },
  {
   "cell_type": "code",
   "execution_count": 9,
   "metadata": {
    "collapsed": true
   },
   "outputs": [],
   "source": [
    "DA_Full['Intimacy'] = DA_Full.apply(lambda x: is_intimate(x), axis = 1)"
   ]
  },
  {
   "cell_type": "markdown",
   "metadata": {},
   "source": [
    "### These are ones NOT labeled 'Intimate' that WE labeled as 'Intimate'"
   ]
  },
  {
   "cell_type": "code",
   "execution_count": 10,
   "metadata": {},
   "outputs": [
    {
     "data": {
      "text/html": [
       "<div>\n",
       "<style scoped>\n",
       "    .dataframe tbody tr th:only-of-type {\n",
       "        vertical-align: middle;\n",
       "    }\n",
       "\n",
       "    .dataframe tbody tr th {\n",
       "        vertical-align: top;\n",
       "    }\n",
       "\n",
       "    .dataframe thead th {\n",
       "        text-align: right;\n",
       "    }\n",
       "</style>\n",
       "<table border=\"1\" class=\"dataframe\">\n",
       "  <thead>\n",
       "    <tr style=\"text-align: right;\">\n",
       "      <th></th>\n",
       "      <th>PartiesRelationship</th>\n",
       "      <th>Intimacy</th>\n",
       "    </tr>\n",
       "  </thead>\n",
       "  <tbody>\n",
       "    <tr>\n",
       "      <th>56</th>\n",
       "      <td>Other</td>\n",
       "      <td>Intimate</td>\n",
       "    </tr>\n",
       "    <tr>\n",
       "      <th>78</th>\n",
       "      <td>Other</td>\n",
       "      <td>Intimate</td>\n",
       "    </tr>\n",
       "    <tr>\n",
       "      <th>127</th>\n",
       "      <td>Other</td>\n",
       "      <td>Intimate</td>\n",
       "    </tr>\n",
       "    <tr>\n",
       "      <th>289</th>\n",
       "      <td>Other</td>\n",
       "      <td>Intimate</td>\n",
       "    </tr>\n",
       "    <tr>\n",
       "      <th>370</th>\n",
       "      <td>Other</td>\n",
       "      <td>Intimate</td>\n",
       "    </tr>\n",
       "    <tr>\n",
       "      <th>443</th>\n",
       "      <td>Other</td>\n",
       "      <td>Intimate</td>\n",
       "    </tr>\n",
       "    <tr>\n",
       "      <th>447</th>\n",
       "      <td>Other</td>\n",
       "      <td>Intimate</td>\n",
       "    </tr>\n",
       "    <tr>\n",
       "      <th>452</th>\n",
       "      <td>Other</td>\n",
       "      <td>Intimate</td>\n",
       "    </tr>\n",
       "    <tr>\n",
       "      <th>561</th>\n",
       "      <td>Other</td>\n",
       "      <td>Intimate</td>\n",
       "    </tr>\n",
       "    <tr>\n",
       "      <th>564</th>\n",
       "      <td>Other</td>\n",
       "      <td>Intimate</td>\n",
       "    </tr>\n",
       "    <tr>\n",
       "      <th>826</th>\n",
       "      <td>Other</td>\n",
       "      <td>Intimate</td>\n",
       "    </tr>\n",
       "    <tr>\n",
       "      <th>972</th>\n",
       "      <td>Other</td>\n",
       "      <td>Intimate</td>\n",
       "    </tr>\n",
       "    <tr>\n",
       "      <th>1022</th>\n",
       "      <td>Other</td>\n",
       "      <td>Intimate</td>\n",
       "    </tr>\n",
       "    <tr>\n",
       "      <th>1157</th>\n",
       "      <td>Other</td>\n",
       "      <td>Intimate</td>\n",
       "    </tr>\n",
       "  </tbody>\n",
       "</table>\n",
       "</div>"
      ],
      "text/plain": [
       "     PartiesRelationship  Intimacy\n",
       "56                 Other  Intimate\n",
       "78                 Other  Intimate\n",
       "127                Other  Intimate\n",
       "289                Other  Intimate\n",
       "370                Other  Intimate\n",
       "443                Other  Intimate\n",
       "447                Other  Intimate\n",
       "452                Other  Intimate\n",
       "561                Other  Intimate\n",
       "564                Other  Intimate\n",
       "826                Other  Intimate\n",
       "972                Other  Intimate\n",
       "1022               Other  Intimate\n",
       "1157               Other  Intimate"
      ]
     },
     "execution_count": 10,
     "metadata": {},
     "output_type": "execute_result"
    }
   ],
   "source": [
    "DA_Full.loc[(DA_Full.PartiesRelationship == 'Other') & (DA_Full.Intimacy == 'Intimate'),['PartiesRelationship','Intimacy']]"
   ]
  },
  {
   "cell_type": "markdown",
   "metadata": {},
   "source": [
    "# Combining Narrative Columns From Version 1 And 2"
   ]
  },
  {
   "cell_type": "code",
   "execution_count": 11,
   "metadata": {
    "collapsed": true
   },
   "outputs": [],
   "source": [
    "# DA reports have 2 versions. Both are combined into one DF but each version has a different narrative column.\n",
    "def get_narrative(df):\n",
    "    if df.DIRVersion == 1:\n",
    "        return str(df.ResultsOfInvestigation)\n",
    "    else:\n",
    "        return str(df.IncidentComment)"
   ]
  },
  {
   "cell_type": "code",
   "execution_count": 12,
   "metadata": {
    "collapsed": true,
    "scrolled": true
   },
   "outputs": [],
   "source": [
    "DA_Full['Narrative'] = DA_Full.apply(lambda x: get_narrative(x), axis = 1)"
   ]
  },
  {
   "cell_type": "code",
   "execution_count": 13,
   "metadata": {},
   "outputs": [
    {
     "data": {
      "text/plain": [
       "0    P1 states P2 struck/punched him in the face. P...\n",
       "1                                  See Sup information\n",
       "2    P1 states her and P2 currently live together a...\n",
       "3    P1 and P2 got into a verbal argument about som...\n",
       "4    P1 came into KPD to report her receiving a tex...\n",
       "Name: Narrative, dtype: object"
      ]
     },
     "execution_count": 13,
     "metadata": {},
     "output_type": "execute_result"
    }
   ],
   "source": [
    "DA_Full.Narrative.head()"
   ]
  },
  {
   "cell_type": "code",
   "execution_count": 14,
   "metadata": {},
   "outputs": [
    {
     "data": {
      "text/html": [
       "<div>\n",
       "<style scoped>\n",
       "    .dataframe tbody tr th:only-of-type {\n",
       "        vertical-align: middle;\n",
       "    }\n",
       "\n",
       "    .dataframe tbody tr th {\n",
       "        vertical-align: top;\n",
       "    }\n",
       "\n",
       "    .dataframe thead th {\n",
       "        text-align: right;\n",
       "    }\n",
       "</style>\n",
       "<table border=\"1\" class=\"dataframe\">\n",
       "  <thead>\n",
       "    <tr style=\"text-align: right;\">\n",
       "      <th></th>\n",
       "      <th>Narrative</th>\n",
       "    </tr>\n",
       "    <tr>\n",
       "      <th>Intimacy</th>\n",
       "      <th></th>\n",
       "    </tr>\n",
       "  </thead>\n",
       "  <tbody>\n",
       "    <tr>\n",
       "      <th>Intimate</th>\n",
       "      <td>845</td>\n",
       "    </tr>\n",
       "    <tr>\n",
       "      <th>Not Intimate</th>\n",
       "      <td>340</td>\n",
       "    </tr>\n",
       "  </tbody>\n",
       "</table>\n",
       "</div>"
      ],
      "text/plain": [
       "              Narrative\n",
       "Intimacy               \n",
       "Intimate            845\n",
       "Not Intimate        340"
      ]
     },
     "execution_count": 14,
     "metadata": {},
     "output_type": "execute_result"
    }
   ],
   "source": [
    "DA_Full.groupby('Intimacy').agg({'Narrative': 'count'})"
   ]
  },
  {
   "cell_type": "markdown",
   "metadata": {},
   "source": [
    "# 71% of records are Intimate"
   ]
  },
  {
   "cell_type": "code",
   "execution_count": 15,
   "metadata": {},
   "outputs": [
    {
     "data": {
      "text/plain": [
       "0.7130801687763713"
      ]
     },
     "execution_count": 15,
     "metadata": {},
     "output_type": "execute_result"
    }
   ],
   "source": [
    "845/(845+340)"
   ]
  },
  {
   "cell_type": "markdown",
   "metadata": {},
   "source": [
    "# Tokenize Narrative"
   ]
  },
  {
   "cell_type": "code",
   "execution_count": 16,
   "metadata": {
    "collapsed": true
   },
   "outputs": [],
   "source": [
    "from nltk.tokenize import RegexpTokenizer\n",
    "\n",
    "tokenizer = RegexpTokenizer('[A-Za-z]+')\n",
    "\n",
    "DA_Full.Narrative = DA_Full.Narrative.apply(lambda x: tokenizer.tokenize(x))"
   ]
  },
  {
   "cell_type": "code",
   "execution_count": 17,
   "metadata": {},
   "outputs": [
    {
     "data": {
      "text/plain": [
       "0    [P, states, P, struck, punched, him, in, the, ...\n",
       "1                              [See, Sup, information]\n",
       "2    [P, states, her, and, P, currently, live, toge...\n",
       "3    [P, and, P, got, into, a, verbal, argument, ab...\n",
       "4    [P, came, into, KPD, to, report, her, receivin...\n",
       "Name: Narrative, dtype: object"
      ]
     },
     "execution_count": 17,
     "metadata": {},
     "output_type": "execute_result"
    }
   ],
   "source": [
    "DA_Full.Narrative.head()"
   ]
  },
  {
   "cell_type": "markdown",
   "metadata": {},
   "source": [
    "# Remove Stopwords"
   ]
  },
  {
   "cell_type": "code",
   "execution_count": 18,
   "metadata": {
    "collapsed": true
   },
   "outputs": [],
   "source": [
    "from nltk.corpus import stopwords\n",
    "\n",
    "# adding my own stopwords\n",
    "stopWords = set(stopwords.words('english'))\n",
    "stopWords.update(('p1','p2','nan', 'p','see','sup','supp','refer','report', 'party','states', 'state','stated','said','got','told'))\n",
    "\n",
    "def rem_stop (df):\n",
    "    return [word.lower() for word in df.Narrative if word.lower() not in stopWords]"
   ]
  },
  {
   "cell_type": "code",
   "execution_count": 19,
   "metadata": {},
   "outputs": [
    {
     "data": {
      "text/plain": [
       "0    [struck, punched, face, showed, obvious, injur...\n",
       "1                                        [information]\n",
       "2    [currently, live, together, residence, leave, ...\n",
       "3    [verbal, argument, problems, mad, began, trash...\n",
       "4    [came, kpd, receiving, text, facebook, message...\n",
       "Name: Narrative, dtype: object"
      ]
     },
     "execution_count": 19,
     "metadata": {},
     "output_type": "execute_result"
    }
   ],
   "source": [
    "DA_Full.Narrative = DA_Full.apply(lambda x: rem_stop(x), axis = 1)\n",
    "DA_Full.Narrative.head()"
   ]
  },
  {
   "cell_type": "markdown",
   "metadata": {},
   "source": [
    "# Apply Lemmatization\n"
   ]
  },
  {
   "cell_type": "code",
   "execution_count": 20,
   "metadata": {
    "collapsed": true
   },
   "outputs": [],
   "source": [
    "from nltk import WordNetLemmatizer\n",
    "lemztr = WordNetLemmatizer()\n",
    "\n",
    "def porter_stem(df):\n",
    "    return [lemztr.lemmatize(word) for word in df.Narrative]"
   ]
  },
  {
   "cell_type": "code",
   "execution_count": 21,
   "metadata": {
    "collapsed": true
   },
   "outputs": [],
   "source": [
    "DA_Full.Narrative = DA_Full.apply(lambda x: porter_stem(x), axis = 1)"
   ]
  },
  {
   "cell_type": "code",
   "execution_count": 22,
   "metadata": {},
   "outputs": [
    {
     "data": {
      "text/plain": [
       "0    [struck, punched, face, showed, obvious, injur...\n",
       "1                                        [information]\n",
       "2    [currently, live, together, residence, leave, ...\n",
       "3    [verbal, argument, problem, mad, began, trashi...\n",
       "4    [came, kpd, receiving, text, facebook, message...\n",
       "Name: Narrative, dtype: object"
      ]
     },
     "execution_count": 22,
     "metadata": {},
     "output_type": "execute_result"
    }
   ],
   "source": [
    "DA_Full.Narrative.head()"
   ]
  },
  {
   "cell_type": "code",
   "execution_count": 23,
   "metadata": {},
   "outputs": [
    {
     "data": {
      "text/plain": [
       "0    [struck, punched, face, showed, obvious, injur...\n",
       "1                                        [information]\n",
       "2    [currently, live, together, residence, leave, ...\n",
       "3    [verbal, argument, problem, mad, began, trashi...\n",
       "4    [came, kpd, receiving, text, facebook, message...\n",
       "Name: Narrative, dtype: object"
      ]
     },
     "execution_count": 23,
     "metadata": {},
     "output_type": "execute_result"
    }
   ],
   "source": [
    "narrative = DA_Full.Narrative\n",
    "narrative.head()"
   ]
  },
  {
   "cell_type": "markdown",
   "metadata": {},
   "source": [
    "# Making Narratives A Transaction Object"
   ]
  },
  {
   "cell_type": "code",
   "execution_count": 24,
   "metadata": {
    "collapsed": true
   },
   "outputs": [],
   "source": [
    "from mlxtend.preprocessing import TransactionEncoder\n",
    "\n",
    "te = TransactionEncoder()\n",
    "te_narrative = te.fit(narrative).transform(narrative)"
   ]
  },
  {
   "cell_type": "code",
   "execution_count": 25,
   "metadata": {},
   "outputs": [
    {
     "data": {
      "text/plain": [
       "array([[False, False, False, ..., False, False, False],\n",
       "       [False, False, False, ..., False, False, False],\n",
       "       [False, False, False, ..., False, False, False],\n",
       "       ...,\n",
       "       [False, False, False, ..., False, False, False],\n",
       "       [False, False, False, ..., False, False, False],\n",
       "       [False, False, False, ..., False, False, False]])"
      ]
     },
     "execution_count": 25,
     "metadata": {},
     "output_type": "execute_result"
    }
   ],
   "source": [
    "te_narrative"
   ]
  },
  {
   "cell_type": "code",
   "execution_count": 26,
   "metadata": {
    "collapsed": true
   },
   "outputs": [],
   "source": [
    "tx_narrative = pd.DataFrame(te_narrative, columns = te.columns_)"
   ]
  },
  {
   "cell_type": "code",
   "execution_count": 27,
   "metadata": {},
   "outputs": [
    {
     "data": {
      "text/plain": [
       "array(['Intimate', 'Not Intimate'], dtype=object)"
      ]
     },
     "execution_count": 27,
     "metadata": {},
     "output_type": "execute_result"
    }
   ],
   "source": [
    "DA_Full.Intimacy.unique()"
   ]
  },
  {
   "cell_type": "markdown",
   "metadata": {},
   "source": [
    "# Reducing Dimensionality From 3805 Features To 1861"
   ]
  },
  {
   "cell_type": "code",
   "execution_count": 28,
   "metadata": {
    "collapsed": true
   },
   "outputs": [],
   "source": [
    "# Setting minimum amount of times a word must appear to be a feature\n",
    "min_freq = 2"
   ]
  },
  {
   "cell_type": "code",
   "execution_count": 29,
   "metadata": {},
   "outputs": [
    {
     "data": {
      "text/html": [
       "<div>\n",
       "<style scoped>\n",
       "    .dataframe tbody tr th:only-of-type {\n",
       "        vertical-align: middle;\n",
       "    }\n",
       "\n",
       "    .dataframe tbody tr th {\n",
       "        vertical-align: top;\n",
       "    }\n",
       "\n",
       "    .dataframe thead th {\n",
       "        text-align: right;\n",
       "    }\n",
       "</style>\n",
       "<table border=\"1\" class=\"dataframe\">\n",
       "  <thead>\n",
       "    <tr style=\"text-align: right;\">\n",
       "      <th></th>\n",
       "      <th>aadvisedof</th>\n",
       "      <th>aaron</th>\n",
       "      <th>aat</th>\n",
       "      <th>abby</th>\n",
       "      <th>ability</th>\n",
       "      <th>abouts</th>\n",
       "      <th>accidentally</th>\n",
       "      <th>account</th>\n",
       "      <th>accuse</th>\n",
       "      <th>acquire</th>\n",
       "      <th>...</th>\n",
       "      <th>yellow</th>\n",
       "      <th>yet</th>\n",
       "      <th>yielded</th>\n",
       "      <th>yoked</th>\n",
       "      <th>zachary</th>\n",
       "      <th>zacharys</th>\n",
       "      <th>zell</th>\n",
       "      <th>zeno</th>\n",
       "      <th>ziane</th>\n",
       "      <th>zoe</th>\n",
       "    </tr>\n",
       "  </thead>\n",
       "  <tbody>\n",
       "    <tr>\n",
       "      <th>0</th>\n",
       "      <td>False</td>\n",
       "      <td>False</td>\n",
       "      <td>False</td>\n",
       "      <td>False</td>\n",
       "      <td>False</td>\n",
       "      <td>False</td>\n",
       "      <td>False</td>\n",
       "      <td>False</td>\n",
       "      <td>False</td>\n",
       "      <td>False</td>\n",
       "      <td>...</td>\n",
       "      <td>False</td>\n",
       "      <td>False</td>\n",
       "      <td>False</td>\n",
       "      <td>False</td>\n",
       "      <td>False</td>\n",
       "      <td>False</td>\n",
       "      <td>False</td>\n",
       "      <td>False</td>\n",
       "      <td>False</td>\n",
       "      <td>False</td>\n",
       "    </tr>\n",
       "    <tr>\n",
       "      <th>1</th>\n",
       "      <td>False</td>\n",
       "      <td>False</td>\n",
       "      <td>False</td>\n",
       "      <td>False</td>\n",
       "      <td>False</td>\n",
       "      <td>False</td>\n",
       "      <td>False</td>\n",
       "      <td>False</td>\n",
       "      <td>False</td>\n",
       "      <td>False</td>\n",
       "      <td>...</td>\n",
       "      <td>False</td>\n",
       "      <td>False</td>\n",
       "      <td>False</td>\n",
       "      <td>False</td>\n",
       "      <td>False</td>\n",
       "      <td>False</td>\n",
       "      <td>False</td>\n",
       "      <td>False</td>\n",
       "      <td>False</td>\n",
       "      <td>False</td>\n",
       "    </tr>\n",
       "    <tr>\n",
       "      <th>2</th>\n",
       "      <td>False</td>\n",
       "      <td>False</td>\n",
       "      <td>False</td>\n",
       "      <td>False</td>\n",
       "      <td>False</td>\n",
       "      <td>False</td>\n",
       "      <td>False</td>\n",
       "      <td>False</td>\n",
       "      <td>False</td>\n",
       "      <td>False</td>\n",
       "      <td>...</td>\n",
       "      <td>False</td>\n",
       "      <td>False</td>\n",
       "      <td>False</td>\n",
       "      <td>False</td>\n",
       "      <td>False</td>\n",
       "      <td>False</td>\n",
       "      <td>False</td>\n",
       "      <td>False</td>\n",
       "      <td>False</td>\n",
       "      <td>False</td>\n",
       "    </tr>\n",
       "    <tr>\n",
       "      <th>3</th>\n",
       "      <td>False</td>\n",
       "      <td>False</td>\n",
       "      <td>False</td>\n",
       "      <td>False</td>\n",
       "      <td>False</td>\n",
       "      <td>False</td>\n",
       "      <td>False</td>\n",
       "      <td>False</td>\n",
       "      <td>False</td>\n",
       "      <td>False</td>\n",
       "      <td>...</td>\n",
       "      <td>False</td>\n",
       "      <td>False</td>\n",
       "      <td>False</td>\n",
       "      <td>False</td>\n",
       "      <td>False</td>\n",
       "      <td>False</td>\n",
       "      <td>False</td>\n",
       "      <td>False</td>\n",
       "      <td>False</td>\n",
       "      <td>False</td>\n",
       "    </tr>\n",
       "    <tr>\n",
       "      <th>4</th>\n",
       "      <td>False</td>\n",
       "      <td>False</td>\n",
       "      <td>False</td>\n",
       "      <td>False</td>\n",
       "      <td>False</td>\n",
       "      <td>False</td>\n",
       "      <td>False</td>\n",
       "      <td>False</td>\n",
       "      <td>False</td>\n",
       "      <td>False</td>\n",
       "      <td>...</td>\n",
       "      <td>False</td>\n",
       "      <td>False</td>\n",
       "      <td>False</td>\n",
       "      <td>False</td>\n",
       "      <td>False</td>\n",
       "      <td>False</td>\n",
       "      <td>False</td>\n",
       "      <td>False</td>\n",
       "      <td>False</td>\n",
       "      <td>False</td>\n",
       "    </tr>\n",
       "  </tbody>\n",
       "</table>\n",
       "<p>5 rows × 1944 columns</p>\n",
       "</div>"
      ],
      "text/plain": [
       "   aadvisedof  aaron    aat   abby  ability  abouts  accidentally  account  \\\n",
       "0       False  False  False  False    False   False         False    False   \n",
       "1       False  False  False  False    False   False         False    False   \n",
       "2       False  False  False  False    False   False         False    False   \n",
       "3       False  False  False  False    False   False         False    False   \n",
       "4       False  False  False  False    False   False         False    False   \n",
       "\n",
       "   accuse  acquire  ...    yellow    yet  yielded  yoked  zachary  zacharys  \\\n",
       "0   False    False  ...     False  False    False  False    False     False   \n",
       "1   False    False  ...     False  False    False  False    False     False   \n",
       "2   False    False  ...     False  False    False  False    False     False   \n",
       "3   False    False  ...     False  False    False  False    False     False   \n",
       "4   False    False  ...     False  False    False  False    False     False   \n",
       "\n",
       "    zell   zeno  ziane    zoe  \n",
       "0  False  False  False  False  \n",
       "1  False  False  False  False  \n",
       "2  False  False  False  False  \n",
       "3  False  False  False  False  \n",
       "4  False  False  False  False  \n",
       "\n",
       "[5 rows x 1944 columns]"
      ]
     },
     "execution_count": 29,
     "metadata": {},
     "output_type": "execute_result"
    }
   ],
   "source": [
    "# There are 1944 features that appear more than once!\n",
    "tx_narrative.loc[:,~(tx_narrative.sum() >= min_freq)].head()"
   ]
  },
  {
   "cell_type": "code",
   "execution_count": 30,
   "metadata": {
    "scrolled": true
   },
   "outputs": [
    {
     "data": {
      "text/html": [
       "<div>\n",
       "<style scoped>\n",
       "    .dataframe tbody tr th:only-of-type {\n",
       "        vertical-align: middle;\n",
       "    }\n",
       "\n",
       "    .dataframe tbody tr th {\n",
       "        vertical-align: top;\n",
       "    }\n",
       "\n",
       "    .dataframe thead th {\n",
       "        text-align: right;\n",
       "    }\n",
       "</style>\n",
       "<table border=\"1\" class=\"dataframe\">\n",
       "  <thead>\n",
       "    <tr style=\"text-align: right;\">\n",
       "      <th></th>\n",
       "      <th>abdomen</th>\n",
       "      <th>abeel</th>\n",
       "      <th>able</th>\n",
       "      <th>abortion</th>\n",
       "      <th>abrasion</th>\n",
       "      <th>abuse</th>\n",
       "      <th>abused</th>\n",
       "      <th>abusing</th>\n",
       "      <th>abusive</th>\n",
       "      <th>access</th>\n",
       "      <th>...</th>\n",
       "      <th>yelling</th>\n",
       "      <th>yesterday</th>\n",
       "      <th>ymca</th>\n",
       "      <th>yo</th>\n",
       "      <th>york</th>\n",
       "      <th>young</th>\n",
       "      <th>younger</th>\n",
       "      <th>youngest</th>\n",
       "      <th>yr</th>\n",
       "      <th>zambrella</th>\n",
       "    </tr>\n",
       "  </thead>\n",
       "  <tbody>\n",
       "    <tr>\n",
       "      <th>0</th>\n",
       "      <td>False</td>\n",
       "      <td>False</td>\n",
       "      <td>False</td>\n",
       "      <td>False</td>\n",
       "      <td>False</td>\n",
       "      <td>False</td>\n",
       "      <td>False</td>\n",
       "      <td>False</td>\n",
       "      <td>False</td>\n",
       "      <td>False</td>\n",
       "      <td>...</td>\n",
       "      <td>False</td>\n",
       "      <td>False</td>\n",
       "      <td>False</td>\n",
       "      <td>False</td>\n",
       "      <td>False</td>\n",
       "      <td>False</td>\n",
       "      <td>False</td>\n",
       "      <td>False</td>\n",
       "      <td>False</td>\n",
       "      <td>False</td>\n",
       "    </tr>\n",
       "    <tr>\n",
       "      <th>1</th>\n",
       "      <td>False</td>\n",
       "      <td>False</td>\n",
       "      <td>False</td>\n",
       "      <td>False</td>\n",
       "      <td>False</td>\n",
       "      <td>False</td>\n",
       "      <td>False</td>\n",
       "      <td>False</td>\n",
       "      <td>False</td>\n",
       "      <td>False</td>\n",
       "      <td>...</td>\n",
       "      <td>False</td>\n",
       "      <td>False</td>\n",
       "      <td>False</td>\n",
       "      <td>False</td>\n",
       "      <td>False</td>\n",
       "      <td>False</td>\n",
       "      <td>False</td>\n",
       "      <td>False</td>\n",
       "      <td>False</td>\n",
       "      <td>False</td>\n",
       "    </tr>\n",
       "    <tr>\n",
       "      <th>2</th>\n",
       "      <td>False</td>\n",
       "      <td>False</td>\n",
       "      <td>False</td>\n",
       "      <td>False</td>\n",
       "      <td>False</td>\n",
       "      <td>False</td>\n",
       "      <td>False</td>\n",
       "      <td>False</td>\n",
       "      <td>False</td>\n",
       "      <td>False</td>\n",
       "      <td>...</td>\n",
       "      <td>False</td>\n",
       "      <td>False</td>\n",
       "      <td>False</td>\n",
       "      <td>False</td>\n",
       "      <td>False</td>\n",
       "      <td>False</td>\n",
       "      <td>False</td>\n",
       "      <td>False</td>\n",
       "      <td>False</td>\n",
       "      <td>False</td>\n",
       "    </tr>\n",
       "    <tr>\n",
       "      <th>3</th>\n",
       "      <td>False</td>\n",
       "      <td>False</td>\n",
       "      <td>False</td>\n",
       "      <td>False</td>\n",
       "      <td>False</td>\n",
       "      <td>False</td>\n",
       "      <td>False</td>\n",
       "      <td>False</td>\n",
       "      <td>False</td>\n",
       "      <td>False</td>\n",
       "      <td>...</td>\n",
       "      <td>False</td>\n",
       "      <td>False</td>\n",
       "      <td>False</td>\n",
       "      <td>False</td>\n",
       "      <td>False</td>\n",
       "      <td>False</td>\n",
       "      <td>False</td>\n",
       "      <td>False</td>\n",
       "      <td>False</td>\n",
       "      <td>False</td>\n",
       "    </tr>\n",
       "    <tr>\n",
       "      <th>4</th>\n",
       "      <td>False</td>\n",
       "      <td>False</td>\n",
       "      <td>False</td>\n",
       "      <td>False</td>\n",
       "      <td>False</td>\n",
       "      <td>False</td>\n",
       "      <td>False</td>\n",
       "      <td>False</td>\n",
       "      <td>False</td>\n",
       "      <td>False</td>\n",
       "      <td>...</td>\n",
       "      <td>False</td>\n",
       "      <td>False</td>\n",
       "      <td>False</td>\n",
       "      <td>False</td>\n",
       "      <td>False</td>\n",
       "      <td>False</td>\n",
       "      <td>False</td>\n",
       "      <td>False</td>\n",
       "      <td>False</td>\n",
       "      <td>False</td>\n",
       "    </tr>\n",
       "  </tbody>\n",
       "</table>\n",
       "<p>5 rows × 1861 columns</p>\n",
       "</div>"
      ],
      "text/plain": [
       "   abdomen  abeel   able  abortion  abrasion  abuse  abused  abusing  abusive  \\\n",
       "0    False  False  False     False     False  False   False    False    False   \n",
       "1    False  False  False     False     False  False   False    False    False   \n",
       "2    False  False  False     False     False  False   False    False    False   \n",
       "3    False  False  False     False     False  False   False    False    False   \n",
       "4    False  False  False     False     False  False   False    False    False   \n",
       "\n",
       "   access    ...      yelling  yesterday   ymca     yo   york  young  younger  \\\n",
       "0   False    ...        False      False  False  False  False  False    False   \n",
       "1   False    ...        False      False  False  False  False  False    False   \n",
       "2   False    ...        False      False  False  False  False  False    False   \n",
       "3   False    ...        False      False  False  False  False  False    False   \n",
       "4   False    ...        False      False  False  False  False  False    False   \n",
       "\n",
       "   youngest     yr  zambrella  \n",
       "0     False  False      False  \n",
       "1     False  False      False  \n",
       "2     False  False      False  \n",
       "3     False  False      False  \n",
       "4     False  False      False  \n",
       "\n",
       "[5 rows x 1861 columns]"
      ]
     },
     "execution_count": 30,
     "metadata": {},
     "output_type": "execute_result"
    }
   ],
   "source": [
    "# There are 1861 features that only appear once!\n",
    "tx_narrative.loc[:,(tx_narrative.sum() >= min_freq)].head()"
   ]
  },
  {
   "cell_type": "code",
   "execution_count": 31,
   "metadata": {},
   "outputs": [
    {
     "data": {
      "text/plain": [
       "(1185, 1861)"
      ]
     },
     "execution_count": 31,
     "metadata": {},
     "output_type": "execute_result"
    }
   ],
   "source": [
    "tx_narrative = tx_narrative.loc[:, tx_narrative.sum() >= min_freq]\n",
    "tx_narrative.shape"
   ]
  },
  {
   "cell_type": "markdown",
   "metadata": {},
   "source": [
    "# Train Test Split"
   ]
  },
  {
   "cell_type": "code",
   "execution_count": 32,
   "metadata": {
    "collapsed": true
   },
   "outputs": [],
   "source": [
    "from sklearn.model_selection import train_test_split"
   ]
  },
  {
   "cell_type": "code",
   "execution_count": 33,
   "metadata": {
    "collapsed": true
   },
   "outputs": [],
   "source": [
    "x = np.array(tx_narrative)\n",
    "y = np.ravel(DA_Full.Intimacy)"
   ]
  },
  {
   "cell_type": "code",
   "execution_count": 34,
   "metadata": {
    "collapsed": true
   },
   "outputs": [],
   "source": [
    "x_train, x_test, y_train, y_test = train_test_split(x, y, test_size = .10, random_state = 0, stratify = y)"
   ]
  },
  {
   "cell_type": "markdown",
   "metadata": {},
   "source": [
    "# Tuning Alpha Of Multinomial Naive Bayes Classifier"
   ]
  },
  {
   "cell_type": "code",
   "execution_count": 35,
   "metadata": {
    "collapsed": true
   },
   "outputs": [],
   "source": [
    "from sklearn import naive_bayes\n",
    "from sklearn.model_selection import GridSearchCV\n",
    "\n",
    "mnb_cv = naive_bayes.MultinomialNB()\n",
    "\n",
    "mnb_param_grid = [{\n",
    "    'alpha' : np.linspace(.01,5,100) # np.linspace(.01,5,100)\n",
    "}]\n",
    "\n",
    "mnb_grid_search = GridSearchCV(mnb_cv,\n",
    "                              param_grid = mnb_param_grid,\n",
    "                              cv = 5,\n",
    "                              scoring = 'accuracy')"
   ]
  },
  {
   "cell_type": "code",
   "execution_count": 36,
   "metadata": {},
   "outputs": [
    {
     "name": "stdout",
     "output_type": "stream",
     "text": [
      "2.53020202020202\n",
      "0.7401500938086304\n"
     ]
    }
   ],
   "source": [
    "mnb_grid_search.fit(x_train, y_train)\n",
    "best_alpha = mnb_grid_search.best_params_.get('alpha')\n",
    "print(best_alpha)\n",
    "print(mnb_grid_search.best_score_)\n"
   ]
  },
  {
   "cell_type": "markdown",
   "metadata": {},
   "source": [
    "# Refit Naive Bayes With Best Alpha"
   ]
  },
  {
   "cell_type": "code",
   "execution_count": 37,
   "metadata": {},
   "outputs": [
    {
     "data": {
      "text/plain": [
       "MultinomialNB(alpha=2.53020202020202, class_prior=None, fit_prior=True)"
      ]
     },
     "execution_count": 37,
     "metadata": {},
     "output_type": "execute_result"
    }
   ],
   "source": [
    "mnb = naive_bayes.MultinomialNB(alpha = best_alpha)\n",
    "mnb.fit(x_train, y_train)"
   ]
  },
  {
   "cell_type": "code",
   "execution_count": 38,
   "metadata": {},
   "outputs": [
    {
     "name": "stdout",
     "output_type": "stream",
     "text": [
      "The naive score of multinomial naive bayes is: 0.8346\n",
      "The training score of multinomial naive bayes is: 0.8377\n",
      "The test score of multinomial naive bayes is: 0.8067\n"
     ]
    }
   ],
   "source": [
    "# Test accuracy : 78.99% (10% split and feature reduction) min freq 2\n",
    "# Test accuracy : 80.67% (10% split and feature reduction) min freq 1\n",
    "# Test accuracy : 78.15% (10% split and no feature reduction)\n",
    "\n",
    "print(\"The naive score of multinomial naive bayes is: %.4f\" %mnb.score(x, y))\n",
    "print(\"The training score of multinomial naive bayes is: %.4f\" %mnb.score(x_train, y_train))\n",
    "print(\"The test score of multinomial naive bayes is: %.4f\" %mnb.score(x_test, y_test))"
   ]
  },
  {
   "cell_type": "markdown",
   "metadata": {},
   "source": [
    "# MODEL EVALUTATION"
   ]
  },
  {
   "cell_type": "code",
   "execution_count": 39,
   "metadata": {},
   "outputs": [
    {
     "data": {
      "text/plain": [
       "Counter({'Intimate': 85, 'Not Intimate': 34})"
      ]
     },
     "execution_count": 39,
     "metadata": {},
     "output_type": "execute_result"
    }
   ],
   "source": [
    "import collections\n",
    "collections.Counter(y_test)"
   ]
  },
  {
   "cell_type": "code",
   "execution_count": 40,
   "metadata": {
    "scrolled": true
   },
   "outputs": [
    {
     "data": {
      "text/html": [
       "<div>\n",
       "<style scoped>\n",
       "    .dataframe tbody tr th:only-of-type {\n",
       "        vertical-align: middle;\n",
       "    }\n",
       "\n",
       "    .dataframe tbody tr th {\n",
       "        vertical-align: top;\n",
       "    }\n",
       "\n",
       "    .dataframe thead th {\n",
       "        text-align: right;\n",
       "    }\n",
       "</style>\n",
       "<table border=\"1\" class=\"dataframe\">\n",
       "  <thead>\n",
       "    <tr style=\"text-align: right;\">\n",
       "      <th></th>\n",
       "      <th>Predicted - Intimate</th>\n",
       "      <th>Predicted - Not Intimate</th>\n",
       "    </tr>\n",
       "  </thead>\n",
       "  <tbody>\n",
       "    <tr>\n",
       "      <th>Actual - Intimate</th>\n",
       "      <td>82</td>\n",
       "      <td>3</td>\n",
       "    </tr>\n",
       "    <tr>\n",
       "      <th>Actual - Not Intimate</th>\n",
       "      <td>20</td>\n",
       "      <td>14</td>\n",
       "    </tr>\n",
       "  </tbody>\n",
       "</table>\n",
       "</div>"
      ],
      "text/plain": [
       "                       Predicted - Intimate  Predicted - Not Intimate\n",
       "Actual - Intimate                        82                         3\n",
       "Actual - Not Intimate                    20                        14"
      ]
     },
     "execution_count": 40,
     "metadata": {},
     "output_type": "execute_result"
    }
   ],
   "source": [
    "from sklearn.metrics import confusion_matrix\n",
    "CM = pd.DataFrame(confusion_matrix( y_test, mnb.predict(x_test),\n",
    "                                   labels = ['Intimate', 'Not Intimate']),\n",
    "                columns=['Predicted - Intimate','Predicted - Not Intimate'],\n",
    "                ).rename(index={0:'Actual - Intimate', 1:'Actual - Not Intimate'})\n",
    "CM"
   ]
  },
  {
   "cell_type": "code",
   "execution_count": 41,
   "metadata": {},
   "outputs": [
    {
     "name": "stdout",
     "output_type": "stream",
     "text": [
      "CORRECT: True Intimate: 0.803921568627451\n",
      "CORRECT: True Not-Intimate: 0.8235294117647058\n",
      "WRONG: False Intimate: 0.19607843137254902\n",
      "WRONG: False Not-Intimate: 0.17647058823529413\n",
      "****************************************************\n",
      "TOTAL CORRECT:  0.8067226890756303\n",
      "TOTAL WRONG:  0.19327731092436976\n"
     ]
    }
   ],
   "source": [
    "print('CORRECT: True Intimate:', 82/(82+20))\n",
    "print('CORRECT: True Not-Intimate:', 14/(3+14))\n",
    "print('WRONG: False Intimate:', 20/(82+20))\n",
    "print('WRONG: False Not-Intimate:', 3/(3+14))\n",
    "print('****************************************************')\n",
    "print('TOTAL CORRECT: ', (82+14)/(82+14+20+3) )\n",
    "print('TOTAL WRONG: ', (20+3)/(82+14+20+3) )"
   ]
  }
 ],
 "metadata": {
  "kernelspec": {
   "display_name": "Python 3",
   "language": "python",
   "name": "python3"
  },
  "language_info": {
   "codemirror_mode": {
    "name": "ipython",
    "version": 3
   },
   "file_extension": ".py",
   "mimetype": "text/x-python",
   "name": "python",
   "nbconvert_exporter": "python",
   "pygments_lexer": "ipython3",
   "version": "3.6.3"
  }
 },
 "nbformat": 4,
 "nbformat_minor": 2
}
